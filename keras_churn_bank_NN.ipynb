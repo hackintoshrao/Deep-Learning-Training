{
  "nbformat": 4,
  "nbformat_minor": 0,
  "metadata": {
    "colab": {
      "name": "keras-churn-bank-NN.ipynb",
      "version": "0.3.2",
      "provenance": [],
      "include_colab_link": true
    },
    "kernelspec": {
      "name": "python2",
      "display_name": "Python 2"
    }
  },
  "cells": [
    {
      "cell_type": "markdown",
      "metadata": {
        "id": "view-in-github",
        "colab_type": "text"
      },
      "source": [
        "[View in Colaboratory](https://colab.research.google.com/drive/13JSj3r6q1ZpAQU0VF6OMlzaG2QwJkMwn)"
      ]
    },
    {
      "metadata": {
        "id": "U0aZ_cIF11_4",
        "colab_type": "code",
        "colab": {
          "base_uri": "https://localhost:8080/",
          "height": 212
        },
        "outputId": "6efea515-5ce8-4f70-c55b-d1ba4e75b77e"
      },
      "cell_type": "code",
      "source": [
        "!wget https://play.minio.io:9000/rao/Churn_Modelling.csv -P /tmp/\n",
        "    "
      ],
      "execution_count": 3,
      "outputs": [
        {
          "output_type": "stream",
          "text": [
            "--2018-06-26 02:11:54--  https://play.minio.io:9000/rao/Churn_Modelling.csv\r\n",
            "Resolving play.minio.io (play.minio.io)... 147.75.201.93\r\n",
            "Connecting to play.minio.io (play.minio.io)|147.75.201.93|:9000... connected.\n",
            "HTTP request sent, awaiting response... 200 OK\n",
            "Length: 684858 (669K) [text/csv]\n",
            "Saving to: ‘/tmp/Churn_Modelling.csv’\n",
            "\n",
            "Churn_Modelling.csv 100%[===================>] 668.81K  --.-KB/s    in 0.1s    \n",
            "\n",
            "2018-06-26 02:11:54 (6.86 MB/s) - ‘/tmp/Churn_Modelling.csv’ saved [684858/684858]\n",
            "\n"
          ],
          "name": "stdout"
        }
      ]
    },
    {
      "metadata": {
        "id": "GeekBStb18R9",
        "colab_type": "code",
        "colab": {
          "base_uri": "https://localhost:8080/",
          "height": 3683
        },
        "outputId": "c67ff8de-11cb-4fac-8cd1-e5f5003bae74"
      },
      "cell_type": "code",
      "source": [
        "# Importing the libraries\n",
        "import numpy as np\n",
        "import matplotlib.pyplot as plt\n",
        "import pandas as pd\n",
        "\n",
        "# Importing the dataset\n",
        "dataset = pd.read_csv('/tmp/Churn_Modelling.csv')\n",
        "\n",
        "\n",
        "X = dataset.iloc[:, 3:13].values\n",
        "y = dataset.iloc[:, 13].values\n",
        "\n",
        "\n",
        "from sklearn.preprocessing import LabelEncoder, OneHotEncoder\n",
        "labelencoder_X_1 = LabelEncoder()\n",
        "X[:, 1] = labelencoder_X_1.fit_transform(X[:, 1])\n",
        "labelencoder_X_2 = LabelEncoder()\n",
        "X[:, 2] = labelencoder_X_2.fit_transform(X[:, 2])\n",
        "\n",
        "\n",
        "onehotencoder = OneHotEncoder(categorical_features = [1])\n",
        "X = onehotencoder.fit_transform(X).toarray()\n",
        "X = X[:, 1:]\n",
        "\n",
        "# Splitting the dataset into the Training set and Test set\n",
        "\n",
        "from sklearn.model_selection import train_test_split\n",
        "X_train, X_test, y_train, y_test = train_test_split(X, y, test_size = 0.2)\n",
        "\n",
        "# Feature Scaling\n",
        "\n",
        "from sklearn.preprocessing import StandardScaler\n",
        "sc = StandardScaler()\n",
        "X_train = sc.fit_transform(X_train)\n",
        "X_test = sc.transform(X_test)\n",
        "\n",
        "# Importing the Keras libraries and packages\n",
        "import keras\n",
        "from keras.models import Sequential\n",
        "from keras.layers import Dense\n",
        "\n",
        "#Initializing Neural Network\n",
        "classifier = Sequential()\n",
        "\n",
        "# Adding the input layer and the first hidden layer\n",
        "classifier.add(Dense(output_dim = 6, init = 'uniform', activation = 'relu', input_dim = 11))\n",
        "\n",
        "# Adding the second hidden layer\n",
        "classifier.add(Dense(output_dim = 6, init = 'uniform', activation = 'relu'))\n",
        "\n",
        "# Adding the output layer\n",
        "classifier.add(Dense(output_dim = 1, init = 'uniform', activation = 'sigmoid'))\n",
        "\n",
        "# Compiling Neural Network\n",
        "classifier.compile(optimizer = 'adam', loss = 'binary_crossentropy', metrics = ['accuracy'])\n",
        "\n",
        "\n",
        "# Fitting our model \n",
        "classifier.fit(X_train, y_train, batch_size = 10, nb_epoch = 100)\n",
        "\n",
        "# Predicting the Test set results\n",
        "y_pred = classifier.predict(X_test)\n",
        "y_pred = (y_pred > 0.5)\n",
        "\n",
        "# Creating the Confusion Matrix\n",
        "from sklearn.metrics import confusion_matrix\n",
        "cm = confusion_matrix(y_test, y_pred)"
      ],
      "execution_count": 5,
      "outputs": [
        {
          "output_type": "stream",
          "text": [
            "Using TensorFlow backend.\n",
            "/usr/local/lib/python2.7/dist-packages/ipykernel_launcher.py:45: UserWarning: Update your `Dense` call to the Keras 2 API: `Dense(kernel_initializer=\"uniform\", activation=\"relu\", input_dim=11, units=6)`\n",
            "/usr/local/lib/python2.7/dist-packages/ipykernel_launcher.py:48: UserWarning: Update your `Dense` call to the Keras 2 API: `Dense(units=6, activation=\"relu\", kernel_initializer=\"uniform\")`\n",
            "/usr/local/lib/python2.7/dist-packages/ipykernel_launcher.py:51: UserWarning: Update your `Dense` call to the Keras 2 API: `Dense(units=1, activation=\"sigmoid\", kernel_initializer=\"uniform\")`\n",
            "/usr/local/lib/python2.7/dist-packages/keras/models.py:981: UserWarning: The `nb_epoch` argument in `fit` has been renamed `epochs`.\n",
            "  warnings.warn('The `nb_epoch` argument in `fit` '\n"
          ],
          "name": "stderr"
        },
        {
          "output_type": "stream",
          "text": [
            "Epoch 1/100\n",
            "8000/8000 [==============================] - 1s 162us/step - loss: 0.4785 - acc: 0.7985\n",
            "Epoch 2/100\n",
            "8000/8000 [==============================] - 1s 133us/step - loss: 0.4205 - acc: 0.7989\n",
            "Epoch 3/100\n",
            "8000/8000 [==============================] - 1s 133us/step - loss: 0.4154 - acc: 0.8056\n",
            "Epoch 4/100\n",
            "8000/8000 [==============================] - 1s 131us/step - loss: 0.4114 - acc: 0.8271\n",
            "Epoch 5/100\n",
            "8000/8000 [==============================] - 1s 132us/step - loss: 0.4088 - acc: 0.8304\n",
            "Epoch 6/100\n",
            "8000/8000 [==============================] - 1s 127us/step - loss: 0.4066 - acc: 0.8337\n",
            "Epoch 7/100\n",
            "8000/8000 [==============================] - 1s 132us/step - loss: 0.4057 - acc: 0.8357\n",
            "Epoch 8/100\n",
            "8000/8000 [==============================] - 1s 128us/step - loss: 0.4045 - acc: 0.8367\n",
            "Epoch 9/100\n",
            "8000/8000 [==============================] - 1s 129us/step - loss: 0.4034 - acc: 0.8360\n",
            "Epoch 10/100\n",
            " 430/8000 [>.............................] - ETA: 0s - loss: 0.4000 - acc: 0.8326"
          ],
          "name": "stdout"
        },
        {
          "output_type": "stream",
          "text": [
            "8000/8000 [==============================] - 1s 131us/step - loss: 0.4026 - acc: 0.8366\n",
            "Epoch 11/100\n",
            "8000/8000 [==============================] - 1s 131us/step - loss: 0.4011 - acc: 0.8390\n",
            "Epoch 12/100\n",
            "8000/8000 [==============================] - 1s 133us/step - loss: 0.4010 - acc: 0.8364\n",
            "Epoch 13/100\n",
            "8000/8000 [==============================] - 1s 130us/step - loss: 0.4001 - acc: 0.8386\n",
            "Epoch 14/100\n",
            "8000/8000 [==============================] - 1s 132us/step - loss: 0.3998 - acc: 0.8371\n",
            "Epoch 15/100\n",
            "8000/8000 [==============================] - 1s 132us/step - loss: 0.3997 - acc: 0.8387\n",
            "Epoch 16/100\n",
            "8000/8000 [==============================] - 1s 132us/step - loss: 0.3988 - acc: 0.8387\n",
            "Epoch 17/100\n",
            "8000/8000 [==============================] - 1s 134us/step - loss: 0.3989 - acc: 0.8384\n",
            "Epoch 18/100\n",
            "8000/8000 [==============================] - 1s 131us/step - loss: 0.3976 - acc: 0.8389\n",
            "Epoch 19/100\n",
            " 370/8000 [>.............................] - ETA: 1s - loss: 0.3688 - acc: 0.8622"
          ],
          "name": "stdout"
        },
        {
          "output_type": "stream",
          "text": [
            "8000/8000 [==============================] - 1s 132us/step - loss: 0.3981 - acc: 0.8390\n",
            "Epoch 20/100\n",
            "8000/8000 [==============================] - 1s 132us/step - loss: 0.3977 - acc: 0.8386\n",
            "Epoch 21/100\n",
            "8000/8000 [==============================] - 1s 131us/step - loss: 0.3975 - acc: 0.8386\n",
            "Epoch 22/100\n",
            "8000/8000 [==============================] - 1s 131us/step - loss: 0.3973 - acc: 0.8389\n",
            "Epoch 23/100\n",
            "8000/8000 [==============================] - 1s 127us/step - loss: 0.3970 - acc: 0.8386\n",
            "Epoch 24/100\n",
            "8000/8000 [==============================] - 1s 128us/step - loss: 0.3968 - acc: 0.8394\n",
            "Epoch 25/100\n",
            "8000/8000 [==============================] - 1s 128us/step - loss: 0.3969 - acc: 0.8399\n",
            "Epoch 26/100\n",
            "8000/8000 [==============================] - 1s 130us/step - loss: 0.3966 - acc: 0.8390\n",
            "Epoch 27/100\n",
            "8000/8000 [==============================] - 1s 127us/step - loss: 0.3966 - acc: 0.8406\n",
            "Epoch 28/100\n",
            "1160/8000 [===>..........................] - ETA: 0s - loss: 0.4192 - acc: 0.8371"
          ],
          "name": "stdout"
        },
        {
          "output_type": "stream",
          "text": [
            "8000/8000 [==============================] - 1s 129us/step - loss: 0.3963 - acc: 0.8404\n",
            "Epoch 29/100\n",
            "8000/8000 [==============================] - 1s 130us/step - loss: 0.3960 - acc: 0.8395\n",
            "Epoch 30/100\n",
            "8000/8000 [==============================] - 1s 130us/step - loss: 0.3958 - acc: 0.8406\n",
            "Epoch 31/100\n",
            "8000/8000 [==============================] - 1s 130us/step - loss: 0.3956 - acc: 0.8406\n",
            "Epoch 32/100\n",
            "8000/8000 [==============================] - 1s 132us/step - loss: 0.3957 - acc: 0.8400\n",
            "Epoch 33/100\n",
            "8000/8000 [==============================] - 1s 135us/step - loss: 0.3956 - acc: 0.8390\n",
            "Epoch 34/100\n",
            "8000/8000 [==============================] - 1s 131us/step - loss: 0.3949 - acc: 0.8392\n",
            "Epoch 35/100\n",
            "8000/8000 [==============================] - 1s 132us/step - loss: 0.3953 - acc: 0.8404\n",
            "Epoch 36/100\n",
            "8000/8000 [==============================] - 1s 132us/step - loss: 0.3950 - acc: 0.8385\n",
            "Epoch 37/100\n",
            " 390/8000 [>.............................] - ETA: 1s - loss: 0.3502 - acc: 0.8641"
          ],
          "name": "stdout"
        },
        {
          "output_type": "stream",
          "text": [
            "8000/8000 [==============================] - 1s 130us/step - loss: 0.3954 - acc: 0.8390\n",
            "Epoch 38/100\n",
            "8000/8000 [==============================] - 1s 131us/step - loss: 0.3950 - acc: 0.8394\n",
            "Epoch 39/100\n",
            "8000/8000 [==============================] - 1s 126us/step - loss: 0.3949 - acc: 0.8406\n",
            "Epoch 40/100\n",
            "8000/8000 [==============================] - 1s 129us/step - loss: 0.3953 - acc: 0.8396\n",
            "Epoch 41/100\n",
            "8000/8000 [==============================] - 1s 129us/step - loss: 0.3949 - acc: 0.8397\n",
            "Epoch 42/100\n",
            "8000/8000 [==============================] - 1s 130us/step - loss: 0.3951 - acc: 0.8381\n",
            "Epoch 43/100\n",
            "8000/8000 [==============================] - 1s 132us/step - loss: 0.3949 - acc: 0.8396\n",
            "Epoch 44/100\n",
            "8000/8000 [==============================] - 1s 126us/step - loss: 0.3950 - acc: 0.8402\n",
            "Epoch 45/100\n",
            "8000/8000 [==============================] - 1s 130us/step - loss: 0.3950 - acc: 0.8385\n",
            "Epoch 46/100\n",
            "1590/8000 [====>.........................] - ETA: 0s - loss: 0.3865 - acc: 0.8484"
          ],
          "name": "stdout"
        },
        {
          "output_type": "stream",
          "text": [
            "8000/8000 [==============================] - 1s 130us/step - loss: 0.3949 - acc: 0.8412\n",
            "Epoch 47/100\n",
            "8000/8000 [==============================] - 1s 131us/step - loss: 0.3943 - acc: 0.8386\n",
            "Epoch 48/100\n",
            "8000/8000 [==============================] - 1s 133us/step - loss: 0.3945 - acc: 0.8392\n",
            "Epoch 49/100\n",
            "8000/8000 [==============================] - 1s 133us/step - loss: 0.3946 - acc: 0.8415\n",
            "Epoch 50/100\n",
            "8000/8000 [==============================] - 1s 127us/step - loss: 0.3938 - acc: 0.8397\n",
            "Epoch 51/100\n",
            "8000/8000 [==============================] - 1s 130us/step - loss: 0.3942 - acc: 0.8407\n",
            "Epoch 52/100\n",
            "8000/8000 [==============================] - 1s 131us/step - loss: 0.3943 - acc: 0.8382\n",
            "Epoch 53/100\n",
            "8000/8000 [==============================] - 1s 127us/step - loss: 0.3945 - acc: 0.8410\n",
            "Epoch 54/100\n",
            "8000/8000 [==============================] - 1s 132us/step - loss: 0.3946 - acc: 0.8382\n",
            "Epoch 55/100\n",
            "1590/8000 [====>.........................] - ETA: 0s - loss: 0.3740 - acc: 0.8497"
          ],
          "name": "stdout"
        },
        {
          "output_type": "stream",
          "text": [
            "8000/8000 [==============================] - 1s 128us/step - loss: 0.3943 - acc: 0.8406\n",
            "Epoch 56/100\n",
            "8000/8000 [==============================] - 1s 126us/step - loss: 0.3945 - acc: 0.8394\n",
            "Epoch 57/100\n",
            "8000/8000 [==============================] - 1s 129us/step - loss: 0.3940 - acc: 0.8400\n",
            "Epoch 58/100\n",
            "8000/8000 [==============================] - 1s 131us/step - loss: 0.3945 - acc: 0.8402\n",
            "Epoch 59/100\n",
            "8000/8000 [==============================] - 1s 131us/step - loss: 0.3937 - acc: 0.8400\n",
            "Epoch 60/100\n",
            "8000/8000 [==============================] - 1s 130us/step - loss: 0.3946 - acc: 0.8386\n",
            "Epoch 61/100\n",
            "8000/8000 [==============================] - 1s 129us/step - loss: 0.3942 - acc: 0.8404\n",
            "Epoch 62/100\n",
            "8000/8000 [==============================] - 1s 129us/step - loss: 0.3939 - acc: 0.8392\n",
            "Epoch 63/100\n",
            "8000/8000 [==============================] - 1s 133us/step - loss: 0.3939 - acc: 0.8401\n",
            "Epoch 64/100\n",
            "1120/8000 [===>..........................] - ETA: 0s - loss: 0.3892 - acc: 0.8402"
          ],
          "name": "stdout"
        },
        {
          "output_type": "stream",
          "text": [
            "8000/8000 [==============================] - 1s 129us/step - loss: 0.3937 - acc: 0.8379\n",
            "Epoch 65/100\n",
            "8000/8000 [==============================] - 1s 132us/step - loss: 0.3941 - acc: 0.8391\n",
            "Epoch 66/100\n",
            "8000/8000 [==============================] - 1s 131us/step - loss: 0.3935 - acc: 0.8405\n",
            "Epoch 67/100\n",
            "8000/8000 [==============================] - 1s 129us/step - loss: 0.3948 - acc: 0.8392\n",
            "Epoch 68/100\n",
            "8000/8000 [==============================] - 1s 130us/step - loss: 0.3937 - acc: 0.8395\n",
            "Epoch 69/100\n",
            "8000/8000 [==============================] - 1s 129us/step - loss: 0.3938 - acc: 0.8389\n",
            "Epoch 70/100\n",
            "8000/8000 [==============================] - 1s 127us/step - loss: 0.3940 - acc: 0.8409\n",
            "Epoch 71/100\n",
            "8000/8000 [==============================] - 1s 127us/step - loss: 0.3938 - acc: 0.8382\n",
            "Epoch 72/100\n",
            "8000/8000 [==============================] - 1s 127us/step - loss: 0.3936 - acc: 0.8395\n",
            "Epoch 73/100\n",
            "1600/8000 [=====>........................] - ETA: 0s - loss: 0.3847 - acc: 0.8394"
          ],
          "name": "stdout"
        },
        {
          "output_type": "stream",
          "text": [
            "8000/8000 [==============================] - 1s 127us/step - loss: 0.3941 - acc: 0.8386\n",
            "Epoch 74/100\n",
            "8000/8000 [==============================] - 1s 131us/step - loss: 0.3941 - acc: 0.8409\n",
            "Epoch 75/100\n",
            "8000/8000 [==============================] - 1s 129us/step - loss: 0.3936 - acc: 0.8396\n",
            "Epoch 76/100\n",
            "8000/8000 [==============================] - 1s 132us/step - loss: 0.3942 - acc: 0.8400\n",
            "Epoch 77/100\n",
            "8000/8000 [==============================] - 1s 132us/step - loss: 0.3942 - acc: 0.8392\n",
            "Epoch 78/100\n",
            "8000/8000 [==============================] - 1s 130us/step - loss: 0.3938 - acc: 0.8389\n",
            "Epoch 79/100\n",
            "8000/8000 [==============================] - 1s 132us/step - loss: 0.3939 - acc: 0.8391\n",
            "Epoch 80/100\n",
            "8000/8000 [==============================] - 1s 133us/step - loss: 0.3939 - acc: 0.8387\n",
            "Epoch 81/100\n",
            "8000/8000 [==============================] - 1s 132us/step - loss: 0.3936 - acc: 0.8394\n",
            "Epoch 82/100\n",
            " 780/8000 [=>............................] - ETA: 0s - loss: 0.3940 - acc: 0.8385"
          ],
          "name": "stdout"
        },
        {
          "output_type": "stream",
          "text": [
            "8000/8000 [==============================] - 1s 131us/step - loss: 0.3940 - acc: 0.8412\n",
            "Epoch 83/100\n",
            "8000/8000 [==============================] - 1s 128us/step - loss: 0.3941 - acc: 0.8382\n",
            "Epoch 84/100\n",
            "8000/8000 [==============================] - 1s 132us/step - loss: 0.3937 - acc: 0.8409\n",
            "Epoch 85/100\n",
            "8000/8000 [==============================] - 1s 132us/step - loss: 0.3940 - acc: 0.8399\n",
            "Epoch 86/100\n",
            "8000/8000 [==============================] - 1s 128us/step - loss: 0.3942 - acc: 0.8392\n",
            "Epoch 87/100\n",
            "8000/8000 [==============================] - 1s 127us/step - loss: 0.3936 - acc: 0.8390\n",
            "Epoch 88/100\n",
            "8000/8000 [==============================] - 1s 131us/step - loss: 0.3935 - acc: 0.8405\n",
            "Epoch 89/100\n",
            "8000/8000 [==============================] - 1s 129us/step - loss: 0.3937 - acc: 0.8406\n",
            "Epoch 90/100\n",
            "8000/8000 [==============================] - 1s 129us/step - loss: 0.3938 - acc: 0.8399\n",
            "Epoch 91/100\n",
            "1130/8000 [===>..........................] - ETA: 0s - loss: 0.4220 - acc: 0.8186"
          ],
          "name": "stdout"
        },
        {
          "output_type": "stream",
          "text": [
            "8000/8000 [==============================] - 1s 133us/step - loss: 0.3939 - acc: 0.8401\n",
            "Epoch 92/100\n",
            "8000/8000 [==============================] - 1s 129us/step - loss: 0.3929 - acc: 0.8391\n",
            "Epoch 93/100\n",
            "8000/8000 [==============================] - 1s 132us/step - loss: 0.3935 - acc: 0.8392\n",
            "Epoch 94/100\n",
            "8000/8000 [==============================] - 1s 133us/step - loss: 0.3936 - acc: 0.8410\n",
            "Epoch 95/100\n",
            "8000/8000 [==============================] - 1s 136us/step - loss: 0.3935 - acc: 0.8392\n",
            "Epoch 96/100\n",
            "8000/8000 [==============================] - 1s 132us/step - loss: 0.3939 - acc: 0.8394\n",
            "Epoch 97/100\n",
            "8000/8000 [==============================] - 1s 132us/step - loss: 0.3934 - acc: 0.8382\n",
            "Epoch 98/100\n",
            "8000/8000 [==============================] - 1s 131us/step - loss: 0.3933 - acc: 0.8405\n",
            "Epoch 99/100\n",
            "8000/8000 [==============================] - 1s 131us/step - loss: 0.3936 - acc: 0.8411\n",
            "Epoch 100/100\n",
            " 380/8000 [>.............................] - ETA: 1s - loss: 0.3753 - acc: 0.8368"
          ],
          "name": "stdout"
        },
        {
          "output_type": "stream",
          "text": [
            "8000/8000 [==============================] - 1s 133us/step - loss: 0.3934 - acc: 0.8397\n"
          ],
          "name": "stdout"
        }
      ]
    }
  ]
}
