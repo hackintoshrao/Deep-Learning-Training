{
  "nbformat": 4,
  "nbformat_minor": 0,
  "metadata": {
    "colab": {
      "name": "tensorflow_relu_dropout.ipynb",
      "version": "0.3.2",
      "provenance": [],
      "include_colab_link": true
    },
    "kernelspec": {
      "name": "python2",
      "display_name": "Python 2"
    }
  },
  "cells": [
    {
      "cell_type": "markdown",
      "metadata": {
        "id": "view-in-github",
        "colab_type": "text"
      },
      "source": [
        "[View in Colaboratory](https://colab.research.google.com/drive/1y4KNDUzbrrsjtldVHYoWVCZfWYrVOuo8)"
      ]
    },
    {
      "metadata": {
        "id": "lRW1nDdT1Hi6",
        "colab_type": "code",
        "colab": {
          "base_uri": "https://localhost:8080/",
          "height": 442
        },
        "outputId": "3ab5cb84-13aa-4780-cdeb-8af41f60968c"
      },
      "cell_type": "code",
      "source": [
        "# Remove previous Tensors and Operations\n",
        "tf.reset_default_graph()\n",
        "\n",
        "from tensorflow.examples.tutorials.mnist import input_data\n",
        "import numpy as np\n",
        "\n",
        "learning_rate = 0.001\n",
        "n_input = 784  # MNIST data input (img shape: 28*28)\n",
        "n_classes = 10  # MNIST total classes (0-9 digits)\n",
        "\n",
        "# Import MNIST data\n",
        "mnist = input_data.read_data_sets('.', one_hot=True)\n",
        "\n",
        "# Features and Labels\n",
        "features = tf.placeholder(tf.float32, [None, n_input])\n",
        "labels = tf.placeholder(tf.float32, [None, n_classes])\n",
        "\n",
        "# Weights & bias\n",
        "weights = tf.Variable(tf.random_normal([n_input, n_classes]))\n",
        "bias = tf.Variable(tf.random_normal([n_classes]))\n",
        "\n",
        "# Logits - xW + b\n",
        "logits = tf.add(tf.matmul(features, weights), bias)\n",
        "\n",
        "# Define loss and optimizer\n",
        "cost = tf.reduce_mean(tf.nn.softmax_cross_entropy_with_logits(logits=logits, labels=labels))\n",
        "optimizer = tf.train.GradientDescentOptimizer(learning_rate=learning_rate)\\\n",
        "    .minimize(cost)\n",
        "\n",
        "# Calculate accuracy\n",
        "correct_prediction = tf.equal(tf.argmax(logits, 1), tf.argmax(labels, 1))\n",
        "accuracy = tf.reduce_mean(tf.cast(correct_prediction, tf.float32))\n",
        "\n",
        "\n",
        "import math\n",
        "\n",
        "save_file = 'train_model.ckpt'\n",
        "batch_size = 128\n",
        "n_epochs = 200\n",
        "\n",
        "saver = tf.train.Saver()\n",
        "\n",
        "# Launch the graph\n",
        "with tf.Session() as sess:\n",
        "    sess.run(tf.global_variables_initializer())\n",
        "\n",
        "    # Training cycle\n",
        "    for epoch in range(n_epochs):\n",
        "        total_batch = math.ceil(mnist.train.num_examples / batch_size)\n",
        "\n",
        "        # Loop over all batches\n",
        "        for i in range(int(total_batch)):\n",
        "            batch_features, batch_labels = mnist.train.next_batch(batch_size)\n",
        "            sess.run(\n",
        "                optimizer,\n",
        "                feed_dict={features: batch_features, labels: batch_labels})\n",
        "\n",
        "        # Print status for every 10 epochs\n",
        "        if epoch % 10 == 0:\n",
        "            valid_accuracy = sess.run(\n",
        "                accuracy,\n",
        "                feed_dict={\n",
        "                    features: mnist.validation.images,\n",
        "                    labels: mnist.validation.labels})\n",
        "            print('Epoch {:<3} - Validation Accuracy: {}'.format(\n",
        "                epoch,\n",
        "                valid_accuracy))\n",
        "\n",
        "   \n"
      ],
      "execution_count": 10,
      "outputs": [
        {
          "output_type": "stream",
          "text": [
            "Extracting ./train-images-idx3-ubyte.gz\n",
            "Extracting ./train-labels-idx1-ubyte.gz\n",
            "Extracting ./t10k-images-idx3-ubyte.gz\n",
            "Extracting ./t10k-labels-idx1-ubyte.gz\n",
            "Epoch 0   - Validation Accuracy: 0.0957999974489\n",
            "Epoch 10  - Validation Accuracy: 0.277200013399\n",
            "Epoch 20  - Validation Accuracy: 0.427799999714\n",
            "Epoch 30  - Validation Accuracy: 0.5257999897\n",
            "Epoch 40  - Validation Accuracy: 0.585799992085\n",
            "Epoch 50  - Validation Accuracy: 0.626800000668\n",
            "Epoch 60  - Validation Accuracy: 0.658399999142\n",
            "Epoch 70  - Validation Accuracy: 0.678600013256\n",
            "Epoch 80  - Validation Accuracy: 0.703199982643\n",
            "Epoch 90  - Validation Accuracy: 0.719600021839\n",
            "Epoch 100 - Validation Accuracy: 0.733200013638\n",
            "Epoch 110 - Validation Accuracy: 0.743600010872\n",
            "Epoch 120 - Validation Accuracy: 0.751200020313\n",
            "Epoch 130 - Validation Accuracy: 0.759599983692\n",
            "Epoch 140 - Validation Accuracy: 0.765399992466\n",
            "Epoch 150 - Validation Accuracy: 0.771600008011\n",
            "Epoch 160 - Validation Accuracy: 0.777400016785\n",
            "Epoch 170 - Validation Accuracy: 0.783200025558\n",
            "Epoch 180 - Validation Accuracy: 0.787599980831\n",
            "Epoch 190 - Validation Accuracy: 0.792599976063\n"
          ],
          "name": "stdout"
        }
      ]
    }
  ]
}
